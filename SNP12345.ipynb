{
 "cells": [
  {
   "cell_type": "code",
   "execution_count": null,
   "id": "fc0fcd79",
   "metadata": {},
   "outputs": [],
   "source": [
    "import numpy as np\n",
    "import random\n",
    "from faker import Faker\n",
    "import pandas as pd"
   ]
  },
  {
   "cell_type": "code",
   "execution_count": 6,
   "id": "f1cc91b5",
   "metadata": {},
   "outputs": [
    {
     "data": {
      "text/plain": [
       "['New Zealand',\n",
       " 'Australia',\n",
       " 'New Zealand',\n",
       " 'UK',\n",
       " 'Canada',\n",
       " 'UK',\n",
       " 'US',\n",
       " 'New Zealand',\n",
       " 'US',\n",
       " 'Canada']"
      ]
     },
     "execution_count": 6,
     "metadata": {},
     "output_type": "execute_result"
    }
   ],
   "source": [
    "# Simulate names\n",
    "people = []\n",
    "for _ in range(500):\n",
    "    # Randomly choose a gender\n",
    "    gender = random.choice(['Male', 'Female'])\n",
    "\n",
    "    # Generate a name based on the chosen gender\n",
    "    if gender == 'Male':\n",
    "        name = fake.name_male()\n",
    "    else:\n",
    "        name = fake.name_female()\n",
    "\n",
    "    # Add the name and gender to the list\n",
    "    people.append((name, gender))\n",
    "\n",
    "# Display the first 10 entries\n",
    "people[:10]"
   ]
  },
  {
   "cell_type": "code",
   "execution_count": 10,
   "id": "f570d5db",
   "metadata": {},
   "outputs": [
    {
     "data": {
      "text/plain": [
       "(['Deborah Larson',\n",
       "  'Tina Wheeler',\n",
       "  'Heather Cruz',\n",
       "  'Lauren Baker',\n",
       "  'Heather Bowman',\n",
       "  'Robin Parrish',\n",
       "  'Jordan Gross',\n",
       "  'Stephen Mccarthy',\n",
       "  'Thomas Peters',\n",
       "  'Mark Mills'],\n",
       " ['Australia',\n",
       "  'Australia',\n",
       "  'Australia',\n",
       "  'Australia',\n",
       "  'US',\n",
       "  'US',\n",
       "  'Australia',\n",
       "  'New Zealand',\n",
       "  'US',\n",
       "  'US'],\n",
       " ['West Melanieton',\n",
       "  'Hayesborough',\n",
       "  'New Matthewburgh',\n",
       "  'New Carolberg',\n",
       "  'West Christopherchester',\n",
       "  'Hollyberg',\n",
       "  'East Crystal',\n",
       "  'Hectorfurt',\n",
       "  'Alexanderstad',\n",
       "  'Port Derrickmouth'])"
      ]
     },
     "execution_count": 10,
     "metadata": {},
     "output_type": "execute_result"
    }
   ],
   "source": [
    "# Create a Faker instance\n",
    "fake = Faker()\n",
    "\n",
    "# Create a Faker instance\n",
    "fake = Faker()\n",
    "\n",
    "# Generate random names, countries and cities\n",
    "# Here, we assume the countries are limited to UK, US, Canada, Australia, and New Zealand\n",
    "names = [fake.name() for _ in range(500)]\n",
    "countries = ['UK', 'US', 'Canada', 'Australia', 'New Zealand']\n",
    "random_countries = [random.choice(countries) for _ in range(500)]\n",
    "cities = [fake.city() for _ in range(500)]\n",
    "\n",
    "\n",
    "# Display the first 10 countries and cities to verify\n",
    "names[0:10], random_countries[:10], cities[:10]"
   ]
  },
  {
   "cell_type": "code",
   "execution_count": null,
   "id": "4bfccb41",
   "metadata": {},
   "outputs": [],
   "source": [
    "# Set a random seed for reproducibility\n",
    "np.random.seed(0)\n",
    "\n",
    "# Simulate SNP values (0, 1, or 2) for 500 individuals, with 5 SNPs each\n",
    "snp_values = np.random.randint(0, 3, size=(500, 5))\n",
    "\n",
    "# Create a DataFrame with SNP values\n",
    "df_snp = pd.DataFrame(snp_values, columns=[f\"SNP{i+1}\" for i in range(5)])\n",
    "\n",
    "# Display the first few rows of the dataframe to mimic the table in the image\n",
    "df_snp.head()"
   ]
  },
  {
   "cell_type": "code",
   "execution_count": 1,
   "id": "63781e61",
   "metadata": {},
   "outputs": [
    {
     "data": {
      "text/plain": [
       "array([[0.5488135 , 0.71518937, 0.60276338, 0.54488318, 0.4236548 ,\n",
       "        0.64589411, 0.43758721, 0.891773  , 0.96366276, 0.38344152],\n",
       "       [0.79172504, 0.52889492, 0.56804456, 0.92559664, 0.07103606,\n",
       "        0.0871293 , 0.0202184 , 0.83261985, 0.77815675, 0.87001215],\n",
       "       [0.97861834, 0.79915856, 0.46147936, 0.78052918, 0.11827443,\n",
       "        0.63992102, 0.14335329, 0.94466892, 0.52184832, 0.41466194],\n",
       "       [0.26455561, 0.77423369, 0.45615033, 0.56843395, 0.0187898 ,\n",
       "        0.6176355 , 0.61209572, 0.616934  , 0.94374808, 0.6818203 ],\n",
       "       [0.3595079 , 0.43703195, 0.6976312 , 0.06022547, 0.66676672,\n",
       "        0.67063787, 0.21038256, 0.1289263 , 0.31542835, 0.36371077],\n",
       "       [0.57019677, 0.43860151, 0.98837384, 0.10204481, 0.20887676,\n",
       "        0.16130952, 0.65310833, 0.2532916 , 0.46631077, 0.24442559],\n",
       "       [0.15896958, 0.11037514, 0.65632959, 0.13818295, 0.19658236,\n",
       "        0.36872517, 0.82099323, 0.09710128, 0.83794491, 0.09609841],\n",
       "       [0.97645947, 0.4686512 , 0.97676109, 0.60484552, 0.73926358,\n",
       "        0.03918779, 0.28280696, 0.12019656, 0.2961402 , 0.11872772],\n",
       "       [0.31798318, 0.41426299, 0.0641475 , 0.69247212, 0.56660145,\n",
       "        0.26538949, 0.52324805, 0.09394051, 0.5759465 , 0.9292962 ],\n",
       "       [0.31856895, 0.66741038, 0.13179786, 0.7163272 , 0.28940609,\n",
       "        0.18319136, 0.58651293, 0.02010755, 0.82894003, 0.00469548]])"
      ]
     },
     "execution_count": 1,
     "metadata": {},
     "output_type": "execute_result"
    }
   ],
   "source": [
    "# Set a random seed for reproducibility\n",
    "np.random.seed(0)\n",
    "\n",
    "# Simulate 10 gene_expression values for 500 individuals\n",
    "gene_expression_values = np.random.rand(500, 10)  # 500 individuals and 10 gene expressions each\n",
    "\n",
    "# Display the first 10 individuals' gene expression values to verify\n",
    "gene_expression_values[:10]\n",
    "\n"
   ]
  },
  {
   "cell_type": "code",
   "execution_count": null,
   "id": "fee5d91f",
   "metadata": {},
   "outputs": [],
   "source": []
  }
 ],
 "metadata": {
  "kernelspec": {
   "display_name": "Python 3 (ipykernel)",
   "language": "python",
   "name": "python3"
  },
  "language_info": {
   "codemirror_mode": {
    "name": "ipython",
    "version": 3
   },
   "file_extension": ".py",
   "mimetype": "text/x-python",
   "name": "python",
   "nbconvert_exporter": "python",
   "pygments_lexer": "ipython3",
   "version": "3.9.12"
  }
 },
 "nbformat": 4,
 "nbformat_minor": 5
}
