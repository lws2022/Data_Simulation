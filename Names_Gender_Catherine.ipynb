{
 "cells": [
  {
   "cell_type": "code",
   "execution_count": 1,
   "metadata": {},
   "outputs": [],
   "source": [
    "from faker import Faker\n",
    "import geonamescache\n",
    "import random\n",
    "import pandas as pd"
   ]
  },
  {
   "attachments": {},
   "cell_type": "markdown",
   "metadata": {},
   "source": [
    "## Assigned the Countries (UK, US, Canada, Australia, New Zealand)"
   ]
  },
  {
   "cell_type": "code",
   "execution_count": 2,
   "metadata": {},
   "outputs": [],
   "source": [
    "gc = geonamescache.GeonamesCache()\n",
    "countries_iso = {'US': 'United States', 'GB': 'United Kingdom', 'AU': 'Australia', \n",
    "                 'NZ': 'New Zealand', 'CA': 'Canada'}"
   ]
  },
  {
   "cell_type": "code",
   "execution_count": 4,
   "metadata": {},
   "outputs": [],
   "source": [
    "# Function to get cities from GeonamesCache by country ISO code\n",
    "def get_cities_by_country(country_iso):\n",
    "    # Get all cities\n",
    "    cities = gc.get_cities()\n",
    "    # Filter cities by country ISO code\n",
    "    country_cities = {geoid: city for geoid, city in cities.items() if city['countrycode'] == country_iso}\n",
    "    return list(country_cities.values())\n",
    "\n",
    "# Create a list of all cities for the specified countries\n",
    "all_cities = []\n",
    "for iso, country_name in countries_iso.items():\n",
    "    # Get the ISO code for the country from geonamescache\n",
    "    country_iso = gc.get_countries_by_names()[country_name]['iso']\n",
    "    all_cities.extend(get_cities_by_country(country_iso))"
   ]
  },
  {
   "cell_type": "code",
   "execution_count": 9,
   "metadata": {},
   "outputs": [],
   "source": [
    "gender_list = [\"male\", \"female\"]"
   ]
  },
  {
   "cell_type": "code",
   "execution_count": 12,
   "metadata": {},
   "outputs": [
    {
     "data": {
      "text/html": [
       "<div>\n",
       "<style scoped>\n",
       "    .dataframe tbody tr th:only-of-type {\n",
       "        vertical-align: middle;\n",
       "    }\n",
       "\n",
       "    .dataframe tbody tr th {\n",
       "        vertical-align: top;\n",
       "    }\n",
       "\n",
       "    .dataframe thead th {\n",
       "        text-align: right;\n",
       "    }\n",
       "</style>\n",
       "<table border=\"1\" class=\"dataframe\">\n",
       "  <thead>\n",
       "    <tr style=\"text-align: right;\">\n",
       "      <th></th>\n",
       "      <th>country</th>\n",
       "      <th>city</th>\n",
       "      <th>gender</th>\n",
       "    </tr>\n",
       "  </thead>\n",
       "  <tbody>\n",
       "    <tr>\n",
       "      <th>0</th>\n",
       "      <td>Australia</td>\n",
       "      <td>Bedford</td>\n",
       "      <td>female</td>\n",
       "    </tr>\n",
       "    <tr>\n",
       "      <th>1</th>\n",
       "      <td>United Kingdom</td>\n",
       "      <td>Elmont</td>\n",
       "      <td>female</td>\n",
       "    </tr>\n",
       "    <tr>\n",
       "      <th>2</th>\n",
       "      <td>United Kingdom</td>\n",
       "      <td>High Park North</td>\n",
       "      <td>male</td>\n",
       "    </tr>\n",
       "    <tr>\n",
       "      <th>3</th>\n",
       "      <td>United States</td>\n",
       "      <td>Gage Park</td>\n",
       "      <td>male</td>\n",
       "    </tr>\n",
       "    <tr>\n",
       "      <th>4</th>\n",
       "      <td>Canada</td>\n",
       "      <td>Lawndale</td>\n",
       "      <td>female</td>\n",
       "    </tr>\n",
       "  </tbody>\n",
       "</table>\n",
       "</div>"
      ],
      "text/plain": [
       "          country             city  gender\n",
       "0       Australia          Bedford  female\n",
       "1  United Kingdom           Elmont  female\n",
       "2  United Kingdom  High Park North    male\n",
       "3   United States        Gage Park    male\n",
       "4          Canada         Lawndale  female"
      ]
     },
     "execution_count": 12,
     "metadata": {},
     "output_type": "execute_result"
    }
   ],
   "source": [
    "# Simulate the city and country for each individual\n",
    "individuals = [{'country': random.choice(list(countries_iso.values())),\n",
    "                'city': random.choice(all_cities)['name'],\n",
    "                'gender': random.choice(gender_list)} for _ in range(500)]\n",
    "\n",
    "# Check the first few entries\n",
    "individuals[:10]\n",
    "\n",
    "test_data = pd.DataFrame(individuals[:10])\n",
    "test_data.head()"
   ]
  },
  {
   "attachments": {},
   "cell_type": "markdown",
   "metadata": {},
   "source": [
    "## Name and gender (male, female)"
   ]
  },
  {
   "cell_type": "code",
   "execution_count": 21,
   "metadata": {},
   "outputs": [],
   "source": [
    "def choose_faker(country, gender):\n",
    "    if country == \"United States\":\n",
    "        faker = Faker('en_US')\n",
    "    elif country == \"United Kingdom\":\n",
    "        faker = Faker('en_GB')\n",
    "    elif country == \"Australia\":\n",
    "        faker = Faker('en_AU')\n",
    "    elif country == \"New Zealand\":\n",
    "        faker = Faker('en_NZ')\n",
    "    elif country == \"Canada\":\n",
    "        faker = Faker('en_CA')\n",
    "    else:\n",
    "        print(\"some problems here lol\")\n",
    "        return None\n",
    "\n",
    "    if gender == \"male\":\n",
    "        return faker.name_male()\n",
    "    elif gender == \"female\":\n",
    "        return faker.name_female()\n",
    "    else:\n",
    "        return faker.name()"
   ]
  },
  {
   "cell_type": "code",
   "execution_count": 26,
   "metadata": {},
   "outputs": [],
   "source": [
    "name_list =[]\n",
    "for index in range(len(test_data)):\n",
    "    row = test_data.iloc[index]\n",
    "    country_name = row[\"country\"]\n",
    "    gender= row[\"gender\"]\n",
    "    name_list.append(choose_faker(country_name, gender))"
   ]
  },
  {
   "cell_type": "code",
   "execution_count": 28,
   "metadata": {},
   "outputs": [
    {
     "data": {
      "text/html": [
       "<div>\n",
       "<style scoped>\n",
       "    .dataframe tbody tr th:only-of-type {\n",
       "        vertical-align: middle;\n",
       "    }\n",
       "\n",
       "    .dataframe tbody tr th {\n",
       "        vertical-align: top;\n",
       "    }\n",
       "\n",
       "    .dataframe thead th {\n",
       "        text-align: right;\n",
       "    }\n",
       "</style>\n",
       "<table border=\"1\" class=\"dataframe\">\n",
       "  <thead>\n",
       "    <tr style=\"text-align: right;\">\n",
       "      <th></th>\n",
       "      <th>country</th>\n",
       "      <th>city</th>\n",
       "      <th>gender</th>\n",
       "      <th>name</th>\n",
       "    </tr>\n",
       "  </thead>\n",
       "  <tbody>\n",
       "    <tr>\n",
       "      <th>0</th>\n",
       "      <td>Australia</td>\n",
       "      <td>Bedford</td>\n",
       "      <td>female</td>\n",
       "      <td>Jessica Wheeler</td>\n",
       "    </tr>\n",
       "    <tr>\n",
       "      <th>1</th>\n",
       "      <td>United Kingdom</td>\n",
       "      <td>Elmont</td>\n",
       "      <td>female</td>\n",
       "      <td>Rachel Stevenson</td>\n",
       "    </tr>\n",
       "    <tr>\n",
       "      <th>2</th>\n",
       "      <td>United Kingdom</td>\n",
       "      <td>High Park North</td>\n",
       "      <td>male</td>\n",
       "      <td>Adam Vincent</td>\n",
       "    </tr>\n",
       "    <tr>\n",
       "      <th>3</th>\n",
       "      <td>United States</td>\n",
       "      <td>Gage Park</td>\n",
       "      <td>male</td>\n",
       "      <td>Martin Sullivan</td>\n",
       "    </tr>\n",
       "    <tr>\n",
       "      <th>4</th>\n",
       "      <td>Canada</td>\n",
       "      <td>Lawndale</td>\n",
       "      <td>female</td>\n",
       "      <td>Taylor Lopez</td>\n",
       "    </tr>\n",
       "  </tbody>\n",
       "</table>\n",
       "</div>"
      ],
      "text/plain": [
       "          country             city  gender              name\n",
       "0       Australia          Bedford  female   Jessica Wheeler\n",
       "1  United Kingdom           Elmont  female  Rachel Stevenson\n",
       "2  United Kingdom  High Park North    male      Adam Vincent\n",
       "3   United States        Gage Park    male   Martin Sullivan\n",
       "4          Canada         Lawndale  female      Taylor Lopez"
      ]
     },
     "execution_count": 28,
     "metadata": {},
     "output_type": "execute_result"
    }
   ],
   "source": [
    "test_data[\"name\"] = name_list\n",
    "test_data.head()"
   ]
  },
  {
   "cell_type": "markdown",
   "metadata": {},
   "source": []
  }
 ],
 "metadata": {
  "kernelspec": {
   "display_name": "Python 3",
   "language": "python",
   "name": "python3"
  },
  "language_info": {
   "codemirror_mode": {
    "name": "ipython",
    "version": 3
   },
   "file_extension": ".py",
   "mimetype": "text/x-python",
   "name": "python",
   "nbconvert_exporter": "python",
   "pygments_lexer": "ipython3",
   "version": "3.11.4"
  },
  "orig_nbformat": 4
 },
 "nbformat": 4,
 "nbformat_minor": 2
}
