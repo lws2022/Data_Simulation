{
 "cells": [
  {
   "cell_type": "code",
   "execution_count": 1,
   "metadata": {},
   "outputs": [],
   "source": [
    "from faker import Faker\n",
    "import geonamescache\n",
    "import random\n",
    "import pandas as pd"
   ]
  },
  {
   "attachments": {},
   "cell_type": "markdown",
   "metadata": {},
   "source": [
    "## Assigned the Countries (UK, US, Canada, Australia, New Zealand)"
   ]
  },
  {
   "cell_type": "code",
   "execution_count": 65,
   "metadata": {},
   "outputs": [],
   "source": [
    "gc = geonamescache.GeonamesCache()\n",
    "countries_iso = {'US': 'United States', 'GB': 'United Kingdom', 'AU': 'Australia', \n",
    "                 'NZ': 'New Zealand', 'CA': 'Canada'}"
   ]
  },
  {
   "cell_type": "code",
   "execution_count": 66,
   "metadata": {},
   "outputs": [],
   "source": [
    "# Function to get cities from GeonamesCache by country ISO code\n",
    "def get_cities_by_country(country_iso):\n",
    "    # Get all cities\n",
    "    cities = gc.get_cities()\n",
    "    # Filter cities by country ISO code\n",
    "    country_cities = {geoid: city for geoid, city in cities.items() if city['countrycode'] == country_iso}\n",
    "    return list(country_cities.values())\n",
    "\n",
    "# Create a list of all cities for the specified countries\n",
    "all_cities = []\n",
    "for iso, country_name in countries_iso.items():\n",
    "    # Get the ISO code for the country from geonamescache\n",
    "    country_iso = gc.get_countries_by_names()[country_name]['iso']\n",
    "    all_cities.extend(get_cities_by_country(country_iso))"
   ]
  },
  {
   "cell_type": "code",
   "execution_count": 67,
   "metadata": {},
   "outputs": [],
   "source": [
    "gender_list = [\"male\", \"female\"]"
   ]
  },
  {
   "cell_type": "code",
   "execution_count": 69,
   "metadata": {},
   "outputs": [
    {
     "data": {
      "text/html": [
       "<div>\n",
       "<style scoped>\n",
       "    .dataframe tbody tr th:only-of-type {\n",
       "        vertical-align: middle;\n",
       "    }\n",
       "\n",
       "    .dataframe tbody tr th {\n",
       "        vertical-align: top;\n",
       "    }\n",
       "\n",
       "    .dataframe thead th {\n",
       "        text-align: right;\n",
       "    }\n",
       "</style>\n",
       "<table border=\"1\" class=\"dataframe\">\n",
       "  <thead>\n",
       "    <tr style=\"text-align: right;\">\n",
       "      <th></th>\n",
       "      <th>country</th>\n",
       "      <th>city</th>\n",
       "      <th>gender</th>\n",
       "    </tr>\n",
       "  </thead>\n",
       "  <tbody>\n",
       "    <tr>\n",
       "      <th>0</th>\n",
       "      <td>Australia</td>\n",
       "      <td>Burleson</td>\n",
       "      <td>male</td>\n",
       "    </tr>\n",
       "    <tr>\n",
       "      <th>1</th>\n",
       "      <td>New Zealand</td>\n",
       "      <td>Cliffcrest</td>\n",
       "      <td>female</td>\n",
       "    </tr>\n",
       "    <tr>\n",
       "      <th>2</th>\n",
       "      <td>Australia</td>\n",
       "      <td>Bloomington</td>\n",
       "      <td>male</td>\n",
       "    </tr>\n",
       "    <tr>\n",
       "      <th>3</th>\n",
       "      <td>United States</td>\n",
       "      <td>Kirwan</td>\n",
       "      <td>female</td>\n",
       "    </tr>\n",
       "    <tr>\n",
       "      <th>4</th>\n",
       "      <td>United Kingdom</td>\n",
       "      <td>Santa Paula</td>\n",
       "      <td>female</td>\n",
       "    </tr>\n",
       "  </tbody>\n",
       "</table>\n",
       "</div>"
      ],
      "text/plain": [
       "          country         city  gender\n",
       "0       Australia     Burleson    male\n",
       "1     New Zealand   Cliffcrest  female\n",
       "2       Australia  Bloomington    male\n",
       "3   United States       Kirwan  female\n",
       "4  United Kingdom  Santa Paula  female"
      ]
     },
     "execution_count": 69,
     "metadata": {},
     "output_type": "execute_result"
    }
   ],
   "source": [
    "# Simulate the city and country for each individual\n",
    "individuals = [{'country': random.choice(list(countries_iso.values())),\n",
    "                'city': random.choice(all_cities)['name'],\n",
    "                'gender': random.choice(gender_list)} for _ in range(500)]\n",
    "\n",
    "individuals_df = pd.DataFrame(individuals[:10])\n",
    "individuals_df.head()"
   ]
  },
  {
   "attachments": {},
   "cell_type": "markdown",
   "metadata": {},
   "source": [
    "## Name and gender (male, female)"
   ]
  },
  {
   "cell_type": "code",
   "execution_count": 70,
   "metadata": {},
   "outputs": [],
   "source": [
    "def choose_faker(country, gender):\n",
    "    if country == \"United States\":\n",
    "        faker = Faker('en_US')\n",
    "    elif country == \"United Kingdom\":\n",
    "        faker = Faker('en_GB')\n",
    "    elif country == \"Australia\":\n",
    "        faker = Faker('en_AU')\n",
    "    elif country == \"New Zealand\":\n",
    "        faker = Faker('en_NZ')\n",
    "    elif country == \"Canada\":\n",
    "        faker = Faker('en_CA')\n",
    "    else:\n",
    "        print(\"some problems here lol\")\n",
    "        return None\n",
    "\n",
    "    if gender == \"male\":\n",
    "        return faker.name_male()\n",
    "    elif gender == \"female\":\n",
    "        return faker.name_female()\n",
    "    else:\n",
    "        print(\"some problems here lol\")\n",
    "        return None"
   ]
  },
  {
   "cell_type": "code",
   "execution_count": 71,
   "metadata": {},
   "outputs": [
    {
     "data": {
      "text/html": [
       "<div>\n",
       "<style scoped>\n",
       "    .dataframe tbody tr th:only-of-type {\n",
       "        vertical-align: middle;\n",
       "    }\n",
       "\n",
       "    .dataframe tbody tr th {\n",
       "        vertical-align: top;\n",
       "    }\n",
       "\n",
       "    .dataframe thead th {\n",
       "        text-align: right;\n",
       "    }\n",
       "</style>\n",
       "<table border=\"1\" class=\"dataframe\">\n",
       "  <thead>\n",
       "    <tr style=\"text-align: right;\">\n",
       "      <th></th>\n",
       "      <th>country</th>\n",
       "      <th>city</th>\n",
       "      <th>gender</th>\n",
       "      <th>name</th>\n",
       "    </tr>\n",
       "  </thead>\n",
       "  <tbody>\n",
       "    <tr>\n",
       "      <th>0</th>\n",
       "      <td>Australia</td>\n",
       "      <td>Burleson</td>\n",
       "      <td>male</td>\n",
       "      <td>Edward Hawkins</td>\n",
       "    </tr>\n",
       "    <tr>\n",
       "      <th>1</th>\n",
       "      <td>New Zealand</td>\n",
       "      <td>Cliffcrest</td>\n",
       "      <td>female</td>\n",
       "      <td>Jordan Morton-McCallum</td>\n",
       "    </tr>\n",
       "    <tr>\n",
       "      <th>2</th>\n",
       "      <td>Australia</td>\n",
       "      <td>Bloomington</td>\n",
       "      <td>male</td>\n",
       "      <td>David Evans</td>\n",
       "    </tr>\n",
       "    <tr>\n",
       "      <th>3</th>\n",
       "      <td>United States</td>\n",
       "      <td>Kirwan</td>\n",
       "      <td>female</td>\n",
       "      <td>Brittany Cohen</td>\n",
       "    </tr>\n",
       "    <tr>\n",
       "      <th>4</th>\n",
       "      <td>United Kingdom</td>\n",
       "      <td>Santa Paula</td>\n",
       "      <td>female</td>\n",
       "      <td>Sylvia Doherty-Day</td>\n",
       "    </tr>\n",
       "    <tr>\n",
       "      <th>5</th>\n",
       "      <td>United States</td>\n",
       "      <td>Frankfort</td>\n",
       "      <td>female</td>\n",
       "      <td>Helen Morales</td>\n",
       "    </tr>\n",
       "    <tr>\n",
       "      <th>6</th>\n",
       "      <td>Australia</td>\n",
       "      <td>New Milton</td>\n",
       "      <td>male</td>\n",
       "      <td>Ryan Ross</td>\n",
       "    </tr>\n",
       "    <tr>\n",
       "      <th>7</th>\n",
       "      <td>New Zealand</td>\n",
       "      <td>Cole Harbour</td>\n",
       "      <td>female</td>\n",
       "      <td>Daniel Jones</td>\n",
       "    </tr>\n",
       "    <tr>\n",
       "      <th>8</th>\n",
       "      <td>United Kingdom</td>\n",
       "      <td>Bangor</td>\n",
       "      <td>female</td>\n",
       "      <td>Mrs Sara Rhodes</td>\n",
       "    </tr>\n",
       "    <tr>\n",
       "      <th>9</th>\n",
       "      <td>United States</td>\n",
       "      <td>Martinsburg</td>\n",
       "      <td>male</td>\n",
       "      <td>Eric Long</td>\n",
       "    </tr>\n",
       "  </tbody>\n",
       "</table>\n",
       "</div>"
      ],
      "text/plain": [
       "          country          city  gender                    name\n",
       "0       Australia      Burleson    male          Edward Hawkins\n",
       "1     New Zealand    Cliffcrest  female  Jordan Morton-McCallum\n",
       "2       Australia   Bloomington    male             David Evans\n",
       "3   United States        Kirwan  female          Brittany Cohen\n",
       "4  United Kingdom   Santa Paula  female      Sylvia Doherty-Day\n",
       "5   United States     Frankfort  female           Helen Morales\n",
       "6       Australia    New Milton    male               Ryan Ross\n",
       "7     New Zealand  Cole Harbour  female            Daniel Jones\n",
       "8  United Kingdom        Bangor  female         Mrs Sara Rhodes\n",
       "9   United States   Martinsburg    male               Eric Long"
      ]
     },
     "execution_count": 71,
     "metadata": {},
     "output_type": "execute_result"
    }
   ],
   "source": [
    "name_list =[]\n",
    "for index in range(len(individuals_df)):\n",
    "    row = individuals_df.iloc[index]\n",
    "    country_name = row[\"country\"]\n",
    "    gender= row[\"gender\"]\n",
    "    name_list.append(choose_faker(country_name, gender))\n",
    "\n",
    "individuals_df[\"name\"] = name_list\n",
    "individuals_df.head(10)"
   ]
  },
  {
   "attachments": {},
   "cell_type": "markdown",
   "metadata": {},
   "source": [
    "## Sample id"
   ]
  },
  {
   "cell_type": "code",
   "execution_count": 78,
   "metadata": {},
   "outputs": [
    {
     "data": {
      "text/html": [
       "<div>\n",
       "<style scoped>\n",
       "    .dataframe tbody tr th:only-of-type {\n",
       "        vertical-align: middle;\n",
       "    }\n",
       "\n",
       "    .dataframe tbody tr th {\n",
       "        vertical-align: top;\n",
       "    }\n",
       "\n",
       "    .dataframe thead th {\n",
       "        text-align: right;\n",
       "    }\n",
       "</style>\n",
       "<table border=\"1\" class=\"dataframe\">\n",
       "  <thead>\n",
       "    <tr style=\"text-align: right;\">\n",
       "      <th></th>\n",
       "      <th>country</th>\n",
       "      <th>city</th>\n",
       "      <th>gender</th>\n",
       "      <th>name</th>\n",
       "      <th>id</th>\n",
       "    </tr>\n",
       "  </thead>\n",
       "  <tbody>\n",
       "    <tr>\n",
       "      <th>0</th>\n",
       "      <td>Australia</td>\n",
       "      <td>Burleson</td>\n",
       "      <td>male</td>\n",
       "      <td>Edward Hawkins</td>\n",
       "      <td>sid_0001</td>\n",
       "    </tr>\n",
       "    <tr>\n",
       "      <th>1</th>\n",
       "      <td>New Zealand</td>\n",
       "      <td>Cliffcrest</td>\n",
       "      <td>female</td>\n",
       "      <td>Jordan Morton-McCallum</td>\n",
       "      <td>sid_0002</td>\n",
       "    </tr>\n",
       "    <tr>\n",
       "      <th>2</th>\n",
       "      <td>Australia</td>\n",
       "      <td>Bloomington</td>\n",
       "      <td>male</td>\n",
       "      <td>David Evans</td>\n",
       "      <td>sid_0003</td>\n",
       "    </tr>\n",
       "    <tr>\n",
       "      <th>3</th>\n",
       "      <td>United States</td>\n",
       "      <td>Kirwan</td>\n",
       "      <td>female</td>\n",
       "      <td>Brittany Cohen</td>\n",
       "      <td>sid_0004</td>\n",
       "    </tr>\n",
       "    <tr>\n",
       "      <th>4</th>\n",
       "      <td>United Kingdom</td>\n",
       "      <td>Santa Paula</td>\n",
       "      <td>female</td>\n",
       "      <td>Sylvia Doherty-Day</td>\n",
       "      <td>sid_0005</td>\n",
       "    </tr>\n",
       "  </tbody>\n",
       "</table>\n",
       "</div>"
      ],
      "text/plain": [
       "          country         city  gender                    name        id\n",
       "0       Australia     Burleson    male          Edward Hawkins  sid_0001\n",
       "1     New Zealand   Cliffcrest  female  Jordan Morton-McCallum  sid_0002\n",
       "2       Australia  Bloomington    male             David Evans  sid_0003\n",
       "3   United States       Kirwan  female          Brittany Cohen  sid_0004\n",
       "4  United Kingdom  Santa Paula  female      Sylvia Doherty-Day  sid_0005"
      ]
     },
     "execution_count": 78,
     "metadata": {},
     "output_type": "execute_result"
    }
   ],
   "source": [
    "def generate_sample_id(index):\n",
    "    return f\"sid_{str(index + 1).zfill(4)}\"\n",
    "\n",
    "individuals_df['id'] = individuals_df.index.to_series().apply(generate_sample_id)\n",
    "\n",
    "individuals_df.head()"
   ]
  },
  {
   "attachments": {},
   "cell_type": "markdown",
   "metadata": {},
   "source": [
    "### do not use this, this is hash"
   ]
  },
  {
   "cell_type": "code",
   "execution_count": 76,
   "metadata": {},
   "outputs": [
    {
     "name": "stdout",
     "output_type": "stream",
     "text": [
      "          country          city  gender                    name        id\n",
      "0       Australia      Burleson    male          Edward Hawkins  6b456fae\n",
      "1     New Zealand    Cliffcrest  female  Jordan Morton-McCallum  4645c9c5\n",
      "2       Australia   Bloomington    male             David Evans  30a6d455\n",
      "3   United States        Kirwan  female          Brittany Cohen  ec4b8937\n",
      "4  United Kingdom   Santa Paula  female      Sylvia Doherty-Day  3ae9bbf1\n",
      "5   United States     Frankfort  female           Helen Morales  6e255aaa\n",
      "6       Australia    New Milton    male               Ryan Ross  5bc737e3\n",
      "7     New Zealand  Cole Harbour  female            Daniel Jones  18f13471\n",
      "8  United Kingdom        Bangor  female         Mrs Sara Rhodes  4334411f\n",
      "9   United States   Martinsburg    male               Eric Long  fc92ef95\n"
     ]
    },
    {
     "data": {
      "text/plain": [
       "10"
      ]
     },
     "execution_count": 76,
     "metadata": {},
     "output_type": "execute_result"
    }
   ],
   "source": [
    "# import hashlib\n",
    "\n",
    "# key = \"pandas\"\n",
    "\n",
    "# # Function to generate hash IDs\n",
    "# def generate_hash_id(row):\n",
    "#     data_string = row.to_string() + key\n",
    "#     hash_object = hashlib.sha256(data_string.encode())  # Create a SHA-256 hash object\n",
    "#     return hash_object.hexdigest()[:8]  # Return the first 8 characters of the hash as the ID\n",
    "\n",
    "# individuals_df['id'] = individuals_df.apply(generate_hash_id, axis=1)\n",
    "\n",
    "# print(individuals_df)\n",
    "\n",
    "# unique_ids_count = individuals_df[\"id\"].nunique()\n",
    "# unique_ids_count\n"
   ]
  }
 ],
 "metadata": {
  "kernelspec": {
   "display_name": "Python 3",
   "language": "python",
   "name": "python3"
  },
  "language_info": {
   "codemirror_mode": {
    "name": "ipython",
    "version": 3
   },
   "file_extension": ".py",
   "mimetype": "text/x-python",
   "name": "python",
   "nbconvert_exporter": "python",
   "pygments_lexer": "ipython3",
   "version": "3.11.4"
  },
  "orig_nbformat": 4
 },
 "nbformat": 4,
 "nbformat_minor": 2
}
