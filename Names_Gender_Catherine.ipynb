{
 "cells": [
  {
   "cell_type": "code",
   "execution_count": 18,
   "metadata": {},
   "outputs": [],
   "source": [
    "from faker import Faker\n",
    "import geonamescache\n",
    "import random"
   ]
  },
  {
   "attachments": {},
   "cell_type": "markdown",
   "metadata": {},
   "source": [
    "## Assigned the Countries (UK, US, Canada, Australia, New Zealand)"
   ]
  },
  {
   "cell_type": "code",
   "execution_count": 1,
   "metadata": {},
   "outputs": [],
   "source": [
    "country_list = []"
   ]
  },
  {
   "cell_type": "code",
   "execution_count": 15,
   "metadata": {},
   "outputs": [],
   "source": [
    "gc = geonamescache.GeonamesCache()\n",
    "countries_iso = {'US': 'United States', 'GB': 'United Kingdom', 'AU': 'Australia', \n",
    "                 'NZ': 'New Zealand', 'CA': 'Canada'}"
   ]
  },
  {
   "cell_type": "code",
   "execution_count": 19,
   "metadata": {},
   "outputs": [],
   "source": [
    "# Function to get cities from GeonamesCache by country ISO code\n",
    "def get_cities_by_country(country_iso):\n",
    "    # Get all cities\n",
    "    cities = gc.get_cities()\n",
    "    # Filter cities by country ISO code\n",
    "    country_cities = {geoid: city for geoid, city in cities.items() if city['countrycode'] == country_iso}\n",
    "    return list(country_cities.values())\n",
    "\n",
    "# Create a list of all cities for the specified countries\n",
    "all_cities = []\n",
    "for iso, country_name in countries_iso.items():\n",
    "    # Get the ISO code for the country from geonamescache\n",
    "    country_iso = gc.get_countries_by_names()[country_name]['iso']\n",
    "    all_cities.extend(get_cities_by_country(country_iso))"
   ]
  },
  {
   "cell_type": "code",
   "execution_count": 22,
   "metadata": {},
   "outputs": [
    {
     "data": {
      "text/plain": [
       "[{'country': 'Canada', 'city': 'Chesham'},\n",
       " {'country': 'Canada', 'city': 'Bairnsdale'},\n",
       " {'country': 'United States', 'city': 'West Odessa'},\n",
       " {'country': 'Australia', 'city': 'East Pensacola Heights'},\n",
       " {'country': 'Australia', 'city': 'Navarre'}]"
      ]
     },
     "execution_count": 22,
     "metadata": {},
     "output_type": "execute_result"
    }
   ],
   "source": [
    "# Simulate the city and country for each individual\n",
    "individuals = [{'country': random.choice(list(countries_iso.values())),\n",
    "                'city': random.choice(all_cities)['name']} for _ in range(500)]\n",
    "\n",
    "# Check the first few entries\n",
    "individuals[:5]"
   ]
  },
  {
   "attachments": {},
   "cell_type": "markdown",
   "metadata": {},
   "source": [
    "## Name and gender (male, female)"
   ]
  },
  {
   "cell_type": "code",
   "execution_count": 36,
   "metadata": {},
   "outputs": [],
   "source": [
    "def choose_faker(country, gender):\n",
    "    if country == \"United States\":\n",
    "        faker = Faker('en_US')\n",
    "    elif country == \"United Kingdom\":\n",
    "        faker = Faker('en_GB')\n",
    "    elif country == \"Australia\":\n",
    "        faker = Faker('en_AU')\n",
    "    elif country == \"New Zealand\":\n",
    "        faker = Faker('en_NZ')\n",
    "    elif country == \"Canada\":\n",
    "        faker = Faker('en_CA')\n",
    "    else:\n",
    "        print(\"some problems here lol\")\n",
    "        return None\n",
    "\n",
    "    if gender == \"male\":\n",
    "        return faker.name_male()\n",
    "    elif gender == \"female\":\n",
    "        return faker.name_female()\n",
    "    else:\n",
    "        return faker.name()"
   ]
  },
  {
   "cell_type": "code",
   "execution_count": 37,
   "metadata": {},
   "outputs": [
    {
     "data": {
      "text/plain": [
       "'Anne Sixtus'"
      ]
     },
     "execution_count": 37,
     "metadata": {},
     "output_type": "execute_result"
    }
   ],
   "source": [
    "choose_faker(\"New Zealand\", \"female\")"
   ]
  },
  {
   "cell_type": "markdown",
   "metadata": {},
   "source": []
  }
 ],
 "metadata": {
  "kernelspec": {
   "display_name": "Python 3",
   "language": "python",
   "name": "python3"
  },
  "language_info": {
   "codemirror_mode": {
    "name": "ipython",
    "version": 3
   },
   "file_extension": ".py",
   "mimetype": "text/x-python",
   "name": "python",
   "nbconvert_exporter": "python",
   "pygments_lexer": "ipython3",
   "version": "3.11.4"
  },
  "orig_nbformat": 4
 },
 "nbformat": 4,
 "nbformat_minor": 2
}
