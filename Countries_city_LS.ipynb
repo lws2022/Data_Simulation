{
 "cells": [
  {
   "cell_type": "markdown",
   "metadata": {},
   "source": [
    "# Setting up"
   ]
  },
  {
   "cell_type": "code",
   "execution_count": 26,
   "metadata": {},
   "outputs": [],
   "source": [
    "# Importing packages\n",
    "import pandas as pd\n",
    "import numpy as np\n",
    "import random\n",
    "from faker import Faker\n",
    "import geonamescache\n",
    "import random"
   ]
  },
  {
   "cell_type": "markdown",
   "metadata": {},
   "source": [
    "# Generating Countries"
   ]
  },
  {
   "cell_type": "code",
   "execution_count": 27,
   "metadata": {},
   "outputs": [],
   "source": [
    "# Initialize GeonamesCache\n",
    "gc = geonamescache.GeonamesCache()\n",
    "\n",
    "# Define the countries with their ISO country codes\n",
    "countries_iso = {'US': 'United States', 'GB': 'United Kingdom', 'AU': 'Australia', \n",
    "                 'NZ': 'New Zealand', 'CA': 'Canada'}"
   ]
  },
  {
   "cell_type": "code",
   "execution_count": 28,
   "metadata": {},
   "outputs": [],
   "source": [
    "# Function to get cities from GeonamesCache by country ISO code\n",
    "def get_cities_by_country(country_iso):\n",
    "    # Get all cities\n",
    "    cities = gc.get_cities()\n",
    "    # Filter cities by country ISO code\n",
    "    country_cities = {geoid: city for geoid, city in cities.items() if city['countrycode'] == country_iso}\n",
    "    return list(country_cities.values())\n",
    "\n",
    "# Create a list of all cities for the specified countries\n",
    "all_cities = []\n",
    "for iso, country_name in countries_iso.items():\n",
    "    # Get the ISO code for the country from geonamescache\n",
    "    country_iso = gc.get_countries_by_names()[country_name]['iso']\n",
    "    all_cities.extend(get_cities_by_country(country_iso))\n"
   ]
  },
  {
   "cell_type": "code",
   "execution_count": 29,
   "metadata": {},
   "outputs": [
    {
     "data": {
      "text/plain": [
       "[{'country': 'United Kingdom', 'city': 'Storrs'},\n",
       " {'country': 'Canada', 'city': 'Finchley'},\n",
       " {'country': 'Canada', 'city': 'Albemarle'},\n",
       " {'country': 'Canada', 'city': 'Bury'},\n",
       " {'country': 'United States', 'city': 'Pearl River'}]"
      ]
     },
     "execution_count": 29,
     "metadata": {},
     "output_type": "execute_result"
    }
   ],
   "source": [
    "# Simulate the city and country for each individual\n",
    "individuals = [{'country': random.choice(list(countries_iso.values())),\n",
    "                'city': random.choice(all_cities)['name']} for _ in range(500)]\n",
    "\n",
    "# Check the first few entries\n",
    "individuals[:5]"
   ]
  },
  {
   "cell_type": "code",
   "execution_count": null,
   "metadata": {},
   "outputs": [],
   "source": []
  },
  {
   "cell_type": "code",
   "execution_count": null,
   "metadata": {},
   "outputs": [],
   "source": []
  }
 ],
 "metadata": {
  "kernelspec": {
   "display_name": "Python 3",
   "language": "python",
   "name": "python3"
  },
  "language_info": {
   "codemirror_mode": {
    "name": "ipython",
    "version": 3
   },
   "file_extension": ".py",
   "mimetype": "text/x-python",
   "name": "python",
   "nbconvert_exporter": "python",
   "pygments_lexer": "ipython3",
   "version": "3.11.5"
  }
 },
 "nbformat": 4,
 "nbformat_minor": 2
}
