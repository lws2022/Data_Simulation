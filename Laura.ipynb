{
 "cells": [
  {
   "cell_type": "markdown",
   "metadata": {},
   "source": [
    "# Setting up"
   ]
  },
  {
   "cell_type": "code",
   "execution_count": 3,
   "metadata": {},
   "outputs": [],
   "source": [
    "# Importing packages\n",
    "import pandas as pd\n",
    "import numpy as np\n",
    "import random\n",
    "from faker import Faker\n",
    "import geonamescache\n",
    "import random"
   ]
  },
  {
   "cell_type": "markdown",
   "metadata": {},
   "source": [
    "# Generating Countries"
   ]
  },
  {
   "cell_type": "code",
   "execution_count": 4,
   "metadata": {},
   "outputs": [],
   "source": [
    "# Initialize GeonamesCache\n",
    "gc = geonamescache.GeonamesCache()\n",
    "\n",
    "# Define the countries with their ISO country codes\n",
    "countries_iso = {'US': 'United States', 'GB': 'United Kingdom', 'AU': 'Australia', \n",
    "                 'NZ': 'New Zealand', 'CA': 'Canada'}"
   ]
  },
  {
   "cell_type": "code",
   "execution_count": 5,
   "metadata": {},
   "outputs": [],
   "source": [
    "# Function to get cities from GeonamesCache by country ISO code\n",
    "def get_cities_by_country(country_iso):\n",
    "    # Get all cities\n",
    "    cities = gc.get_cities()\n",
    "    # Filter cities by country ISO code\n",
    "    country_cities = {geoid: city for geoid, city in cities.items() if city['countrycode'] == country_iso}\n",
    "    return list(country_cities.values())\n",
    "\n",
    "# Create a list of all cities for the specified countries\n",
    "all_cities = []\n",
    "for iso, country_name in countries_iso.items():\n",
    "    # Get the ISO code for the country from geonamescache\n",
    "    country_iso = gc.get_countries_by_names()[country_name]['iso']\n",
    "    all_cities.extend(get_cities_by_country(country_iso))\n"
   ]
  },
  {
   "cell_type": "code",
   "execution_count": 11,
   "metadata": {},
   "outputs": [
    {
     "data": {
      "text/html": [
       "<div>\n",
       "<style scoped>\n",
       "    .dataframe tbody tr th:only-of-type {\n",
       "        vertical-align: middle;\n",
       "    }\n",
       "\n",
       "    .dataframe tbody tr th {\n",
       "        vertical-align: top;\n",
       "    }\n",
       "\n",
       "    .dataframe thead th {\n",
       "        text-align: right;\n",
       "    }\n",
       "</style>\n",
       "<table border=\"1\" class=\"dataframe\">\n",
       "  <thead>\n",
       "    <tr style=\"text-align: right;\">\n",
       "      <th></th>\n",
       "      <th>country</th>\n",
       "      <th>city</th>\n",
       "    </tr>\n",
       "  </thead>\n",
       "  <tbody>\n",
       "    <tr>\n",
       "      <th>0</th>\n",
       "      <td>United Kingdom</td>\n",
       "      <td>Munster</td>\n",
       "    </tr>\n",
       "    <tr>\n",
       "      <th>1</th>\n",
       "      <td>Australia</td>\n",
       "      <td>Halifax</td>\n",
       "    </tr>\n",
       "    <tr>\n",
       "      <th>2</th>\n",
       "      <td>Canada</td>\n",
       "      <td>Great Wyrley</td>\n",
       "    </tr>\n",
       "    <tr>\n",
       "      <th>3</th>\n",
       "      <td>Canada</td>\n",
       "      <td>Middletown</td>\n",
       "    </tr>\n",
       "    <tr>\n",
       "      <th>4</th>\n",
       "      <td>United States</td>\n",
       "      <td>East Meadow</td>\n",
       "    </tr>\n",
       "    <tr>\n",
       "      <th>5</th>\n",
       "      <td>New Zealand</td>\n",
       "      <td>Severna Park</td>\n",
       "    </tr>\n",
       "    <tr>\n",
       "      <th>6</th>\n",
       "      <td>Australia</td>\n",
       "      <td>Lake Oswego</td>\n",
       "    </tr>\n",
       "    <tr>\n",
       "      <th>7</th>\n",
       "      <td>New Zealand</td>\n",
       "      <td>Brisbane</td>\n",
       "    </tr>\n",
       "    <tr>\n",
       "      <th>8</th>\n",
       "      <td>United States</td>\n",
       "      <td>North Olmsted</td>\n",
       "    </tr>\n",
       "    <tr>\n",
       "      <th>9</th>\n",
       "      <td>United Kingdom</td>\n",
       "      <td>Danforth East York</td>\n",
       "    </tr>\n",
       "  </tbody>\n",
       "</table>\n",
       "</div>"
      ],
      "text/plain": [
       "          country                city\n",
       "0  United Kingdom             Munster\n",
       "1       Australia             Halifax\n",
       "2          Canada        Great Wyrley\n",
       "3          Canada          Middletown\n",
       "4   United States         East Meadow\n",
       "5     New Zealand        Severna Park\n",
       "6       Australia         Lake Oswego\n",
       "7     New Zealand            Brisbane\n",
       "8   United States       North Olmsted\n",
       "9  United Kingdom  Danforth East York"
      ]
     },
     "execution_count": 11,
     "metadata": {},
     "output_type": "execute_result"
    }
   ],
   "source": [
    "# Simulate the city and country for each individual\n",
    "individuals = [{'country': random.choice(list(countries_iso.values())),\n",
    "                'city': random.choice(all_cities)['name']} for _ in range(500)]\n",
    "\n",
    "# Check the first few entries\n",
    "individuals[:5]\n",
    "\n",
    "# Create a DataFrame with the simulated data\n",
    "individuals_df = pd.DataFrame(individuals)\n",
    "\n",
    "individuals_df.head(10)"
   ]
  },
  {
   "cell_type": "markdown",
   "metadata": {},
   "source": [
    "# Generating names and gender"
   ]
  },
  {
   "cell_type": "code",
   "execution_count": 10,
   "metadata": {},
   "outputs": [],
   "source": [
    "def choose_faker(country, gender):\n",
    "    if country == \"United States\":\n",
    "        faker = Faker('en_US')\n",
    "    elif country == \"United Kingdom\":\n",
    "        faker = Faker('en_GB')\n",
    "    elif country == \"Australia\":\n",
    "        faker = Faker('en_AU')\n",
    "    elif country == \"New Zealand\":\n",
    "        faker = Faker('en_NZ')\n",
    "    elif country == \"Canada\":\n",
    "        faker = Faker('en_CA')\n",
    "    else:\n",
    "        print(\"some problems here lol\")\n",
    "        return None\n",
    "\n",
    "    if gender == \"male\":\n",
    "        return faker.name_male()\n",
    "    elif gender == \"female\":\n",
    "        return faker.name_female()\n",
    "    else:\n",
    "        return faker.name()"
   ]
  },
  {
   "cell_type": "code",
   "execution_count": null,
   "metadata": {},
   "outputs": [],
   "source": [
    "apply()"
   ]
  },
  {
   "cell_type": "code",
   "execution_count": null,
   "metadata": {},
   "outputs": [],
   "source": []
  },
  {
   "cell_type": "code",
   "execution_count": null,
   "metadata": {},
   "outputs": [],
   "source": []
  },
  {
   "cell_type": "markdown",
   "metadata": {},
   "source": [
    "# Generating Heights based on name/gender"
   ]
  },
  {
   "cell_type": "code",
   "execution_count": null,
   "metadata": {},
   "outputs": [],
   "source": []
  },
  {
   "cell_type": "code",
   "execution_count": 7,
   "metadata": {},
   "outputs": [],
   "source": [
    "mean_heights = {\n",
    "    'United States' : {'male': 177, 'female': 163},\n",
    "    'United Kingdom' : {'male': 178, 'female': 164},\n",
    "    'Canada' : {'male': 178, 'female': 165},\n",
    "    'Australia' : {'male': 179, 'female': 165},\n",
    "    'New Zealand' : {'male': 178, 'female': 165},\n",
    "}\n",
    "\n",
    "st_dev_height = 6"
   ]
  },
  {
   "cell_type": "code",
   "execution_count": 12,
   "metadata": {},
   "outputs": [],
   "source": [
    "# Function to generate height based on country and gender\n",
    "def generate_height(country, gender):\n",
    "    mean_height = mean_heights[country][gender]\n",
    "    # Sample from a normal distribution around the mean height\n",
    "    return np.random.normal(mean_height, std_dev)"
   ]
  },
  {
   "cell_type": "code",
   "execution_count": null,
   "metadata": {},
   "outputs": [],
   "source": [
    "# Generate heights for each individual in the DataFrame\n",
    "df['Height'] = df.apply(lambda x: generate_height(x['Country'], x['Gender']), axis=1)"
   ]
  },
  {
   "cell_type": "code",
   "execution_count": null,
   "metadata": {},
   "outputs": [],
   "source": []
  },
  {
   "cell_type": "markdown",
   "metadata": {},
   "source": [
    "# Building the table"
   ]
  },
  {
   "cell_type": "code",
   "execution_count": null,
   "metadata": {},
   "outputs": [],
   "source": []
  },
  {
   "cell_type": "code",
   "execution_count": null,
   "metadata": {},
   "outputs": [],
   "source": []
  },
  {
   "cell_type": "code",
   "execution_count": null,
   "metadata": {},
   "outputs": [],
   "source": []
  },
  {
   "cell_type": "markdown",
   "metadata": {},
   "source": [
    "# FINAL DATASET"
   ]
  },
  {
   "cell_type": "code",
   "execution_count": null,
   "metadata": {},
   "outputs": [],
   "source": [
    "Data = {\n",
    "    'Name': ,\n",
    "    'Sample_ID': ,\n",
    "    'Age': ,\n",
    "    'Gender': ,\n",
    "    'BMI': ,\n",
    "    'Height': ,\n",
    "    'Country': ,\n",
    "    'City': ,\n",
    "    'Education level': ,\n",
    "\n",
    "}"
   ]
  },
  {
   "cell_type": "code",
   "execution_count": null,
   "metadata": {},
   "outputs": [],
   "source": []
  },
  {
   "cell_type": "code",
   "execution_count": null,
   "metadata": {},
   "outputs": [],
   "source": []
  },
  {
   "cell_type": "code",
   "execution_count": null,
   "metadata": {},
   "outputs": [],
   "source": []
  },
  {
   "cell_type": "code",
   "execution_count": null,
   "metadata": {},
   "outputs": [],
   "source": []
  }
 ],
 "metadata": {
  "kernelspec": {
   "display_name": "Python 3",
   "language": "python",
   "name": "python3"
  },
  "language_info": {
   "codemirror_mode": {
    "name": "ipython",
    "version": 3
   },
   "file_extension": ".py",
   "mimetype": "text/x-python",
   "name": "python",
   "nbconvert_exporter": "python",
   "pygments_lexer": "ipython3",
   "version": "3.11.5"
  }
 },
 "nbformat": 4,
 "nbformat_minor": 2
}
